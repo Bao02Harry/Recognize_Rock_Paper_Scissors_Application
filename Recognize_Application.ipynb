{
  "cells": [
    {
      "cell_type": "code",
      "execution_count": 47,
      "metadata": {
        "id": "-vWwXSWFy5ma",
        "colab": {
          "base_uri": "https://localhost:8080/"
        },
        "outputId": "e9f4680d-d927-4720-b964-d8d242b3f4aa"
      },
      "outputs": [
        {
          "output_type": "stream",
          "name": "stdout",
          "text": [
            "--2022-05-28 08:49:25--  https://github.com/Bao02Harry/Recognize_Rock_Paper_Scissors_Application/blob/main/SmallRPSDataset-master.zip?raw=true\n",
            "Resolving github.com (github.com)... 140.82.112.4\n",
            "Connecting to github.com (github.com)|140.82.112.4|:443... connected.\n",
            "HTTP request sent, awaiting response... 302 Found\n",
            "Location: https://github.com/Bao02Harry/Recognize_Rock_Paper_Scissors_Application/raw/main/SmallRPSDataset-master.zip [following]\n",
            "--2022-05-28 08:49:25--  https://github.com/Bao02Harry/Recognize_Rock_Paper_Scissors_Application/raw/main/SmallRPSDataset-master.zip\n",
            "Reusing existing connection to github.com:443.\n",
            "HTTP request sent, awaiting response... 302 Found\n",
            "Location: https://raw.githubusercontent.com/Bao02Harry/Recognize_Rock_Paper_Scissors_Application/main/SmallRPSDataset-master.zip [following]\n",
            "--2022-05-28 08:49:25--  https://raw.githubusercontent.com/Bao02Harry/Recognize_Rock_Paper_Scissors_Application/main/SmallRPSDataset-master.zip\n",
            "Resolving raw.githubusercontent.com (raw.githubusercontent.com)... 185.199.108.133, 185.199.109.133, 185.199.110.133, ...\n",
            "Connecting to raw.githubusercontent.com (raw.githubusercontent.com)|185.199.108.133|:443... connected.\n",
            "HTTP request sent, awaiting response... 200 OK\n",
            "Length: 81731220 (78M) [application/zip]\n",
            "Saving to: ‘SmallRPSDataset-master.zip?raw=true.1’\n",
            "\n",
            "SmallRPSDataset-mas 100%[===================>]  77.94M   214MB/s    in 0.4s    \n",
            "\n",
            "2022-05-28 08:49:26 (214 MB/s) - ‘SmallRPSDataset-master.zip?raw=true.1’ saved [81731220/81731220]\n",
            "\n"
          ]
        }
      ],
      "source": [
        "!wget https://github.com/Bao02Harry/Recognize_Rock_Paper_Scissors_Application/blob/main/SmallRPSDataset-master.zip?raw=true"
      ]
    },
    {
      "cell_type": "code",
      "source": [
        "!wget https://github.com/Bao02Harry/Second_Rock_Paper_Scissor_Data/blob/main/Data.zip?raw=true"
      ],
      "metadata": {
        "colab": {
          "base_uri": "https://localhost:8080/"
        },
        "id": "DFpIhTng8hN2",
        "outputId": "41c8a42a-2995-42c6-87c6-01f506d38576"
      },
      "execution_count": 62,
      "outputs": [
        {
          "output_type": "stream",
          "name": "stdout",
          "text": [
            "--2022-05-28 09:16:38--  https://github.com/Bao02Harry/Second_Rock_Paper_Scissor_Data/blob/main/Data.zip?raw=true\n",
            "Resolving github.com (github.com)... 140.82.114.4\n",
            "Connecting to github.com (github.com)|140.82.114.4|:443... connected.\n",
            "HTTP request sent, awaiting response... 302 Found\n",
            "Location: https://github.com/Bao02Harry/Second_Rock_Paper_Scissor_Data/raw/main/Data.zip [following]\n",
            "--2022-05-28 09:16:39--  https://github.com/Bao02Harry/Second_Rock_Paper_Scissor_Data/raw/main/Data.zip\n",
            "Reusing existing connection to github.com:443.\n",
            "HTTP request sent, awaiting response... 302 Found\n",
            "Location: https://raw.githubusercontent.com/Bao02Harry/Second_Rock_Paper_Scissor_Data/main/Data.zip [following]\n",
            "--2022-05-28 09:16:39--  https://raw.githubusercontent.com/Bao02Harry/Second_Rock_Paper_Scissor_Data/main/Data.zip\n",
            "Resolving raw.githubusercontent.com (raw.githubusercontent.com)... 185.199.108.133, 185.199.109.133, 185.199.110.133, ...\n",
            "Connecting to raw.githubusercontent.com (raw.githubusercontent.com)|185.199.108.133|:443... connected.\n",
            "HTTP request sent, awaiting response... 200 OK\n",
            "Length: 29510758 (28M) [application/zip]\n",
            "Saving to: ‘Data.zip?raw=true’\n",
            "\n",
            "Data.zip?raw=true   100%[===================>]  28.14M   168MB/s    in 0.2s    \n",
            "\n",
            "2022-05-28 09:16:39 (168 MB/s) - ‘Data.zip?raw=true’ saved [29510758/29510758]\n",
            "\n"
          ]
        }
      ]
    },
    {
      "cell_type": "code",
      "execution_count": 48,
      "metadata": {
        "id": "AP3IAuXxy5mh"
      },
      "outputs": [],
      "source": [
        "import tensorflow as tf\n",
        "import os\n",
        "import matplotlib.pyplot as plt\n",
        "import numpy as np\n",
        "import cv2\n",
        "import matplotlib.image as mplimg"
      ]
    },
    {
      "cell_type": "code",
      "execution_count": 49,
      "metadata": {
        "id": "7SV5G9w-y5mj"
      },
      "outputs": [],
      "source": [
        "import zipfile\n",
        "local_zip = './SmallRPSDataset-master.zip?raw=true'\n",
        "zip_ref = zipfile.ZipFile(local_zip, 'r')\n",
        "zip_ref.extractall('./SmallRPSDataset-master')\n",
        "zip_ref.close()"
      ]
    },
    {
      "cell_type": "code",
      "execution_count": 50,
      "metadata": {
        "id": "wDy8Z4gzy5mk"
      },
      "outputs": [],
      "source": [
        "# Directory with our training rock picture\n",
        "train_rock_dir = os.path.join(\"./SmallRPSDataset-master/SmallRPSDataset-master/rock\")\n",
        "# Directory with our training paper picture\n",
        "train_paper_dir = os.path.join(\"./SmallRPSDataset-master/SmallRPSDataset-master/paper\")\n",
        "# Directory with our training scissors picture\n",
        "train_scissors_dir = os.path.join(\"./SmallRPSDataset-master/SmallRPSDataset-master/scissors\")"
      ]
    },
    {
      "cell_type": "code",
      "execution_count": 51,
      "metadata": {
        "id": "jdKdM5zWy5ml"
      },
      "outputs": [],
      "source": [
        "train_rock_names = os.listdir(train_rock_dir)\n",
        "train_paper_names = os.listdir(train_paper_dir)\n",
        "train_scissors_names = os.listdir(train_scissors_dir)"
      ]
    },
    {
      "cell_type": "code",
      "execution_count": 52,
      "metadata": {
        "id": "6coCr4Dyy5mm",
        "colab": {
          "base_uri": "https://localhost:8080/"
        },
        "outputId": "9723d318-95f4-4b62-b13f-fb1f2768cc3f"
      },
      "outputs": [
        {
          "output_type": "stream",
          "name": "stdout",
          "text": [
            "365\n",
            "365\n",
            "365\n"
          ]
        }
      ],
      "source": [
        "print(len(train_rock_names))\n",
        "print(len(train_paper_names))\n",
        "print(len(train_scissors_names))"
      ]
    },
    {
      "cell_type": "code",
      "execution_count": 75,
      "metadata": {
        "id": "uGiqApfYy5mo"
      },
      "outputs": [],
      "source": [
        "# Build model\n",
        "model= tf.keras.models.Sequential([\n",
        "    # Note the input shape is the desired size of the image 300x300 with 3 bytes color\n",
        "    # This is the first convolution\n",
        "    tf.keras.layers.Conv2D(512, (3, 3), activation = 'relu', input_shape = (300, 200, 3)),\n",
        "    tf.keras.layers.MaxPooling2D(2, 2),\n",
        "    # This is the second convolution\n",
        "    tf.keras.layers.Conv2D(256, (3, 3), activation = 'relu'),\n",
        "    tf.keras.layers.MaxPooling2D(2, 2),\n",
        "    # This is the third convolution \n",
        "    tf.keras.layers.Conv2D(128, (3, 3), activation = 'relu'),\n",
        "    tf.keras.layers.MaxPooling2D(2, 2),\n",
        "    # This is the forth convolution\n",
        "    tf.keras.layers.Conv2D(64, (3, 3), activation = 'relu'),\n",
        "    tf.keras.layers.MaxPooling2D(2, 2),\n",
        "    # This is the fifth convolution convolution\n",
        "    tf.keras.layers.Conv2D(32, (3,3), activation = 'relu'),\n",
        "    tf.keras.layers.MaxPooling2D(2, 2),\n",
        "    tf.keras.layers.Dropout(0.05),\n",
        "    # Flatten the results to feed into a DNN\n",
        "    tf.keras.layers.Flatten(),\n",
        "    # 512 neuron hidden layer\n",
        "    tf.keras.layers.Dense(512, activation = 'relu'),\n",
        "    # Only 1 output neuron. It will contain a value from 0-1 where 0 for 1 class ('horse) and 1 for the orther('humans')\n",
        "    tf.keras.layers.Dense(3, activation = 'softmax')\n",
        "])"
      ]
    },
    {
      "cell_type": "code",
      "source": [
        "model.summary()"
      ],
      "metadata": {
        "id": "pbtUeYcKyhkw",
        "colab": {
          "base_uri": "https://localhost:8080/"
        },
        "outputId": "80c65b4a-bff4-4bd5-bffe-3000cfd551eb"
      },
      "execution_count": 54,
      "outputs": [
        {
          "output_type": "stream",
          "name": "stdout",
          "text": [
            "Model: \"sequential_2\"\n",
            "_________________________________________________________________\n",
            " Layer (type)                Output Shape              Param #   \n",
            "=================================================================\n",
            " conv2d_10 (Conv2D)          (None, 298, 198, 512)     14336     \n",
            "                                                                 \n",
            " max_pooling2d_10 (MaxPoolin  (None, 149, 99, 512)     0         \n",
            " g2D)                                                            \n",
            "                                                                 \n",
            " conv2d_11 (Conv2D)          (None, 147, 97, 256)      1179904   \n",
            "                                                                 \n",
            " max_pooling2d_11 (MaxPoolin  (None, 73, 48, 256)      0         \n",
            " g2D)                                                            \n",
            "                                                                 \n",
            " conv2d_12 (Conv2D)          (None, 71, 46, 128)       295040    \n",
            "                                                                 \n",
            " max_pooling2d_12 (MaxPoolin  (None, 35, 23, 128)      0         \n",
            " g2D)                                                            \n",
            "                                                                 \n",
            " conv2d_13 (Conv2D)          (None, 33, 21, 64)        73792     \n",
            "                                                                 \n",
            " max_pooling2d_13 (MaxPoolin  (None, 16, 10, 64)       0         \n",
            " g2D)                                                            \n",
            "                                                                 \n",
            " conv2d_14 (Conv2D)          (None, 14, 8, 32)         18464     \n",
            "                                                                 \n",
            " max_pooling2d_14 (MaxPoolin  (None, 7, 4, 32)         0         \n",
            " g2D)                                                            \n",
            "                                                                 \n",
            " dropout_2 (Dropout)         (None, 7, 4, 32)          0         \n",
            "                                                                 \n",
            " flatten_2 (Flatten)         (None, 896)               0         \n",
            "                                                                 \n",
            " dense_4 (Dense)             (None, 512)               459264    \n",
            "                                                                 \n",
            " dense_5 (Dense)             (None, 3)                 1539      \n",
            "                                                                 \n",
            "=================================================================\n",
            "Total params: 2,042,339\n",
            "Trainable params: 2,042,339\n",
            "Non-trainable params: 0\n",
            "_________________________________________________________________\n"
          ]
        }
      ]
    },
    {
      "cell_type": "code",
      "execution_count": 8,
      "metadata": {
        "id": "cazt-Tgzy5mq"
      },
      "outputs": [],
      "source": [
        ""
      ]
    },
    {
      "cell_type": "code",
      "execution_count": 55,
      "metadata": {
        "id": "eDNwUmbCy5mr",
        "colab": {
          "base_uri": "https://localhost:8080/"
        },
        "outputId": "d3a8b8bc-6f35-4716-c604-1a2b15bb07a2"
      },
      "outputs": [
        {
          "output_type": "stream",
          "name": "stdout",
          "text": [
            "Found 1095 images belonging to 3 classes.\n"
          ]
        }
      ],
      "source": [
        "# All images will be rescaled by 1/255\n",
        "train_datagen = tf.keras.preprocessing.image.ImageDataGenerator(rescale = 1/255)\n",
        "\n",
        "# Flow training images in batches of 128 using train_datagen generator\n",
        "train_generator = train_datagen.flow_from_directory(\n",
        "    './SmallRPSDataset-master/SmallRPSDataset-master/', # This is the source directory for training images\n",
        "    target_size= (300, 200), # All images will be resized to 300x300\n",
        "    batch_size = 32\n",
        ")\n"
      ]
    },
    {
      "cell_type": "code",
      "source": [
        "import zipfile\n",
        "local_zip = './Data.zip?raw=true'\n",
        "zip_ref = zipfile.ZipFile(local_zip, 'r')\n",
        "zip_ref.extractall('./Data')\n",
        "zip_ref.close()"
      ],
      "metadata": {
        "id": "DAN6w_QJ9GXJ"
      },
      "execution_count": 63,
      "outputs": []
    },
    {
      "cell_type": "code",
      "source": [
        "# Data validation\n",
        "# All images will be rescaled by 1/255\n",
        "test_data = tf.keras.preprocessing.image.ImageDataGenerator(rescale = 1/255)\n",
        "\n",
        "# Flow training images in batches of 128 using train_datagen generator\n",
        "test_generator = test_data.flow_from_directory(\n",
        "    './Data/Data/', # This is the source directory for training images\n",
        "    target_size= (300, 200), # All images will be resized to 300x300\n",
        "    batch_size = 32\n",
        ")\n"
      ],
      "metadata": {
        "colab": {
          "base_uri": "https://localhost:8080/"
        },
        "id": "5s3yUEwvzd00",
        "outputId": "f11c8a00-a085-4751-e163-af8994228b4d"
      },
      "execution_count": 65,
      "outputs": [
        {
          "output_type": "stream",
          "name": "stdout",
          "text": [
            "Found 372 images belonging to 3 classes.\n"
          ]
        }
      ]
    },
    {
      "cell_type": "code",
      "source": [
        "class myCallback(tf.keras.callbacks.Callback):\n",
        "  def on_epoch_end(self, epoch, logs = {}):\n",
        "    if(logs.get('accuracy') >= 0.99):\n",
        "      print(\"\\nAccuracy is larger than 0.98 so cancelling training!\")\n",
        "      self.model.stop_training = True\n",
        "callbacks = myCallback()\n"
      ],
      "metadata": {
        "id": "A3NVk6Vizfut"
      },
      "execution_count": 56,
      "outputs": []
    },
    {
      "cell_type": "code",
      "source": [
        "model.compile(loss='categorical_crossentropy',\n",
        "              optimizer= tf.keras.optimizers.Adam(learning_rate = 0.0001),\n",
        "              metrics=['accuracy'])"
      ],
      "metadata": {
        "id": "eVkFZiq32DWc"
      },
      "execution_count": 76,
      "outputs": []
    },
    {
      "cell_type": "code",
      "source": [
        "sum_batch = len(train_rock_names) + len(train_paper_names) + len(train_scissors_names)"
      ],
      "metadata": {
        "id": "r9LSaCX-pwp0"
      },
      "execution_count": 72,
      "outputs": []
    },
    {
      "cell_type": "code",
      "execution_count": 77,
      "metadata": {
        "id": "hBHtsB3By5mt",
        "colab": {
          "base_uri": "https://localhost:8080/"
        },
        "outputId": "db7fb8d8-f323-4c0a-a0d4-86c08d6a5ea7"
      },
      "outputs": [
        {
          "output_type": "stream",
          "name": "stdout",
          "text": [
            "Epoch 1/50\n",
            " 6/34 [====>.........................] - ETA: 15s - loss: 1.1012 - accuracy: 0.3234WARNING:tensorflow:Callback method `on_train_batch_end` is slow compared to the batch time (batch time: 0.2173s vs `on_train_batch_end` time: 0.3536s). Check your callbacks.\n",
            "34/34 [==============================] - 27s 771ms/step - loss: 1.0435 - accuracy: 0.4858 - val_loss: 1.2272 - val_accuracy: 0.2769\n",
            "Epoch 2/50\n",
            "34/34 [==============================] - 27s 781ms/step - loss: 0.5910 - accuracy: 0.7580 - val_loss: 1.2812 - val_accuracy: 0.2204\n",
            "Epoch 3/50\n",
            "34/34 [==============================] - 26s 769ms/step - loss: 0.4015 - accuracy: 0.8237 - val_loss: 1.9647 - val_accuracy: 0.3333\n",
            "Epoch 4/50\n",
            "34/34 [==============================] - 26s 767ms/step - loss: 0.3300 - accuracy: 0.8521 - val_loss: 1.9863 - val_accuracy: 0.3414\n",
            "Epoch 5/50\n",
            "34/34 [==============================] - 26s 770ms/step - loss: 0.2630 - accuracy: 0.8858 - val_loss: 1.4635 - val_accuracy: 0.2339\n",
            "Epoch 6/50\n",
            "34/34 [==============================] - 26s 772ms/step - loss: 0.2420 - accuracy: 0.9059 - val_loss: 1.6957 - val_accuracy: 0.3145\n",
            "Epoch 7/50\n",
            "34/34 [==============================] - 26s 770ms/step - loss: 0.2270 - accuracy: 0.8995 - val_loss: 1.6118 - val_accuracy: 0.2500\n",
            "Epoch 8/50\n",
            "34/34 [==============================] - 26s 771ms/step - loss: 0.1590 - accuracy: 0.9388 - val_loss: 2.1059 - val_accuracy: 0.2177\n",
            "Epoch 9/50\n",
            "34/34 [==============================] - 26s 771ms/step - loss: 0.1587 - accuracy: 0.9324 - val_loss: 2.8517 - val_accuracy: 0.3333\n",
            "Epoch 10/50\n",
            "34/34 [==============================] - 26s 774ms/step - loss: 0.1271 - accuracy: 0.9452 - val_loss: 3.6017 - val_accuracy: 0.3333\n",
            "Epoch 11/50\n",
            "34/34 [==============================] - 27s 783ms/step - loss: 0.1103 - accuracy: 0.9543 - val_loss: 4.4442 - val_accuracy: 0.3333\n",
            "Epoch 12/50\n",
            "34/34 [==============================] - 26s 771ms/step - loss: 0.1175 - accuracy: 0.9470 - val_loss: 3.3577 - val_accuracy: 0.3065\n",
            "Epoch 13/50\n",
            "34/34 [==============================] - 26s 770ms/step - loss: 0.0828 - accuracy: 0.9662 - val_loss: 5.0081 - val_accuracy: 0.3333\n",
            "Epoch 14/50\n",
            "34/34 [==============================] - 27s 775ms/step - loss: 0.0720 - accuracy: 0.9717 - val_loss: 3.3713 - val_accuracy: 0.2500\n",
            "Epoch 15/50\n",
            "34/34 [==============================] - 26s 774ms/step - loss: 0.0887 - accuracy: 0.9653 - val_loss: 4.6252 - val_accuracy: 0.3333\n",
            "Epoch 16/50\n",
            "34/34 [==============================] - 26s 773ms/step - loss: 0.0859 - accuracy: 0.9635 - val_loss: 3.6116 - val_accuracy: 0.3737\n",
            "Epoch 17/50\n",
            "34/34 [==============================] - 26s 771ms/step - loss: 0.0685 - accuracy: 0.9726 - val_loss: 5.1680 - val_accuracy: 0.3145\n",
            "Epoch 18/50\n",
            "34/34 [==============================] - 26s 772ms/step - loss: 0.0532 - accuracy: 0.9817 - val_loss: 3.6873 - val_accuracy: 0.2661\n",
            "Epoch 19/50\n",
            "34/34 [==============================] - 26s 774ms/step - loss: 0.0599 - accuracy: 0.9763 - val_loss: 5.6254 - val_accuracy: 0.2957\n",
            "Epoch 20/50\n",
            "34/34 [==============================] - 26s 774ms/step - loss: 0.0612 - accuracy: 0.9763 - val_loss: 5.4079 - val_accuracy: 0.3145\n",
            "Epoch 21/50\n",
            "34/34 [==============================] - 26s 774ms/step - loss: 0.0388 - accuracy: 0.9836 - val_loss: 5.5490 - val_accuracy: 0.3038\n",
            "Epoch 22/50\n",
            "34/34 [==============================] - 26s 771ms/step - loss: 0.0427 - accuracy: 0.9808 - val_loss: 6.8801 - val_accuracy: 0.3038\n",
            "Epoch 23/50\n",
            "34/34 [==============================] - 26s 772ms/step - loss: 0.0339 - accuracy: 0.9863 - val_loss: 10.0419 - val_accuracy: 0.3333\n",
            "Epoch 24/50\n",
            "35/34 [==============================] - ETA: 0s - loss: 0.0205 - accuracy: 0.9945\n",
            "Accuracy is larger than 0.98 so cancelling training!\n",
            "34/34 [==============================] - 26s 774ms/step - loss: 0.0205 - accuracy: 0.9945 - val_loss: 5.2176 - val_accuracy: 0.2715\n"
          ]
        }
      ],
      "source": [
        "seed = 20\n",
        "np.random.seed(seed)\n",
        "history = model.fit(train_generator, validation_data = test_generator, steps_per_epoch= (sum_batch/32),  epochs=50, callbacks =[callbacks])"
      ]
    },
    {
      "cell_type": "code",
      "source": [
        "tf.keras.models.save_model(model, filepath = '/content/model_C.h5')"
      ],
      "metadata": {
        "id": "zeIkV8LIrAAQ"
      },
      "execution_count": 60,
      "outputs": []
    },
    {
      "cell_type": "code",
      "source": [
        "#check accuracy, loss graph\n",
        "import matplotlib.pyplot as plt\n",
        "acc = history.history['accuracy']\n",
        "val_acc = history.history['val_accuracy']\n",
        "loss = history.history['loss']\n",
        "val_loss =history.history['val_loss']\n",
        "\n",
        "epochs = range(len(acc))\n",
        "print(epochs)\n",
        "plt.plot(epochs, acc, 'b', label = 'Training acc')\n",
        "plt.plot(epochs, val_acc, 'r', label = 'validation acc')\n",
        "plt.title(\"Training accuracy\")\n",
        "plt.legend()\n",
        "\n",
        "plt.figure()\n",
        "\n",
        "plt.plot(epochs, loss, 'b', label = 'Training loss')\n",
        "plt.plot(epochs, val_loss, 'r', label = 'validation loss')\n",
        "plt.title(\"Training loss\")\n",
        "plt.legend()\n",
        "plt.show()"
      ],
      "metadata": {
        "colab": {
          "base_uri": "https://localhost:8080/",
          "height": 562
        },
        "id": "Pwj1YDiQx4ph",
        "outputId": "8fe04535-e545-4039-9b39-eed8b85045eb"
      },
      "execution_count": 78,
      "outputs": [
        {
          "output_type": "stream",
          "name": "stdout",
          "text": [
            "range(0, 24)\n"
          ]
        },
        {
          "output_type": "display_data",
          "data": {
            "text/plain": [
              "<Figure size 432x288 with 1 Axes>"
            ],
            "image/png": "[encoded data removed]"
          },
          "metadata": {
            "needs_background": "light"
          }
        },
        {
          "output_type": "display_data",
          "data": {
            "text/plain": [
              "<Figure size 432x288 with 1 Axes>"
            ],
            "image/png": "[encoded data removed]"
          },
          "metadata": {
            "needs_background": "light"
          }
        }
      ]
    },
    {
      "cell_type": "code",
      "execution_count": 41,
      "metadata": {
        "colab": {
          "resources": {
            "http://localhost:8080/nbextensions/google.colab/files.js": {
              "data": "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",
              "ok": true,
              "headers": [
                [
                  "content-type",
                  "application/javascript"
                ]
              ],
              "status": 200,
              "status_text": ""
            }
          },
          "base_uri": "https://localhost:8080/",
          "height": 108
        },
        "id": "SqRbVfFRy5mu",
        "outputId": "234b269d-ae83-4234-8959-b44cc997d956"
      },
      "outputs": [
        {
          "output_type": "display_data",
          "data": {
            "text/plain": [
              "<IPython.core.display.HTML object>"
            ],
            "text/html": [
              "\n",
              "     <input type=\"file\" id=\"files-effe89a3-97fa-47c0-8851-ca857cf07cf0\" name=\"files[]\" multiple disabled\n",
              "        style=\"border:none\" />\n",
              "     <output id=\"result-effe89a3-97fa-47c0-8851-ca857cf07cf0\">\n",
              "      Upload widget is only available when the cell has been executed in the\n",
              "      current browser session. Please rerun this cell to enable.\n",
              "      </output>\n",
              "      <script src=\"/nbextensions/google.colab/files.js\"></script> "
            ]
          },
          "metadata": {}
        },
        {
          "output_type": "stream",
          "name": "stdout",
          "text": [
            "Saving WIN_20220526_16_38_25_Pro.jpg to WIN_20220526_16_38_25_Pro (1).jpg\n",
            "[[9.7304803e-01 2.6952017e-02 2.5728927e-08]]\n",
            "[0]\n"
          ]
        }
      ],
      "source": [
        "\n",
        "from google.colab import files\n",
        "from keras.preprocessing import image\n",
        "uploaded = files.upload()\n",
        "# uploaded = files.upload()\n",
        "\n",
        "for fn in uploaded.keys():\n",
        " \n",
        "  # predicting images\n",
        "  path = '/content/' + fn\n",
        "  img = image.load_img(path, target_size=(300, 200))\n",
        "  x = image.img_to_array(img)\n",
        "  x /= 255\n",
        "  x = np.expand_dims(x, axis=0)\n",
        "\n",
        "  images = np.vstack([x])\n",
        "  classes = model.predict(images, batch_size=10)\n",
        "  print(classes)\n",
        "  max_index_row = np.argmax(np.array(classes), axis=1)\n",
        "  print(max_index_row)"
      ]
    }
  ],
  "metadata": {
    "kernelspec": {
      "display_name": "Python 3.8.10 64-bit",
      "language": "python",
      "name": "python3"
    },
    "language_info": {
      "codemirror_mode": {
        "name": "ipython",
        "version": 3
      },
      "file_extension": ".py",
      "mimetype": "text/x-python",
      "name": "python",
      "nbconvert_exporter": "python",
      "pygments_lexer": "ipython3",
      "version": "3.8.10"
    },
    "orig_nbformat": 4,
    "vscode": {
      "interpreter": {
        "hash": "7ad10527c7cbb7ca1b130671cbf296f0efbfc3869823047f289f53e7151b215b"
      }
    },
    "colab": {
      "name": "Recognize_Application (1).ipynb",
      "provenance": [],
      "collapsed_sections": []
    },
    "accelerator": "GPU"
  },
  "nbformat": 4,
  "nbformat_minor": 0
}